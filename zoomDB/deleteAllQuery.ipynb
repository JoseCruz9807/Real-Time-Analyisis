{
    "metadata": {
        "kernelspec": {
            "name": "SQL",
            "display_name": "SQL",
            "language": "sql"
        },
        "language_info": {
            "name": "sql",
            "version": ""
        }
    },
    "nbformat_minor": 2,
    "nbformat": 4,
    "cells": [
        {
            "cell_type": "markdown",
            "source": [
                "Query para eliminar diariamente lo que quede en la tabla de meetings"
            ],
            "metadata": {
                "azdata_cell_guid": "26aa8405-d9f0-49ad-b2a7-590be2e6bb6b"
            }
        },
        {
            "cell_type": "code",
            "source": [
                "DELETE FROM dbo.LIVE_MEETINGS"
            ],
            "metadata": {
                "azdata_cell_guid": "22aaed12-ab14-44ec-86e9-5882a9a5d3f5"
            },
            "outputs": [
                {
                    "output_type": "display_data",
                    "data": {
                        "text/html": "(0 rows affected)"
                    },
                    "metadata": {}
                },
                {
                    "output_type": "display_data",
                    "data": {
                        "text/html": "Total execution time: 00:00:00.100"
                    },
                    "metadata": {}
                }
            ],
            "execution_count": 1
        }
    ]
}